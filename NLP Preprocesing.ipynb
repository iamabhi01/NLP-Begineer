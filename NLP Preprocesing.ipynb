{
 "cells": [
  {
   "cell_type": "code",
   "execution_count": 2,
   "metadata": {},
   "outputs": [],
   "source": [
    "# we will introduce preprocessing steps like tokenization , lemmatizaiton etc"
   ]
  },
  {
   "cell_type": "code",
   "execution_count": 3,
   "metadata": {},
   "outputs": [],
   "source": [
    "#tokenization\n",
    "# it is form of lexical analysis where we split the sentence into words\n",
    "# we have inbuilt tokenizers like spacetokenizer , tweet tokenizer , linetokenizer ,word tokenizer\n",
    "# lets go through them one by one"
   ]
  },
  {
   "cell_type": "markdown",
   "metadata": {},
   "source": [
    "#LineTokenizer"
   ]
  },
  {
   "cell_type": "code",
   "execution_count": 4,
   "metadata": {},
   "outputs": [],
   "source": [
    "from nltk.tokenize import LineTokenizer ,SpaceTokenizer,TweetTokenizer\n",
    "from nltk import word_tokenize"
   ]
  },
  {
   "cell_type": "code",
   "execution_count": 5,
   "metadata": {},
   "outputs": [],
   "source": [
    "ltokenize=LineTokenizer()"
   ]
  },
  {
   "cell_type": "code",
   "execution_count": 6,
   "metadata": {},
   "outputs": [
    {
     "name": "stdout",
     "output_type": "stream",
     "text": [
      "Line tokenizer output : ['My name is Maximus Decimus Meridius, commander of the Armies of the North,General of the Felix Legions and loyal servant to the true emperor,Marcus Aurelius. ', 'Father to a murdered son, husband to a murdered mwife. ', 'And I will have my vengeance, in this life or the next.']\n"
     ]
    }
   ],
   "source": [
    "print(\"Line tokenizer output :\",ltokenize.tokenize(\"My name is Maximus Decimus Meridius, commander of the Armies of the North,General of the Felix Legions and loyal servant to the true emperor,Marcus Aurelius. \\nFather to a murdered son, husband to a murdered mwife. \\nAnd I will have my vengeance, in this life or the next.\"))"
   ]
  },
  {
   "cell_type": "code",
   "execution_count": 7,
   "metadata": {},
   "outputs": [],
   "source": [
    "#line tokenize divides the input string into new lines"
   ]
  },
  {
   "cell_type": "markdown",
   "metadata": {},
   "source": [
    "#SpaceTokenizer"
   ]
  },
  {
   "cell_type": "code",
   "execution_count": 8,
   "metadata": {},
   "outputs": [
    {
     "name": "stdout",
     "output_type": "stream",
     "text": [
      "Space Tokenizer output : ['By', '11', \"o'clock\", 'on', 'Sunday,', 'the', 'doctor', 'shall', 'open', 'the', 'dispensary.']\n"
     ]
    }
   ],
   "source": [
    "rawText = \"By 11 o'clock on Sunday, the doctor shall open the dispensary.\"\n",
    "sTokenizer = SpaceTokenizer()\n",
    "print(\"Space Tokenizer output :\",sTokenizer.tokenize(rawText))"
   ]
  },
  {
   "cell_type": "code",
   "execution_count": 9,
   "metadata": {},
   "outputs": [],
   "source": [
    "#it tokenizes/divides the sentence on the basis of split characters that is space"
   ]
  },
  {
   "cell_type": "markdown",
   "metadata": {},
   "source": [
    "#word_tokenize"
   ]
  },
  {
   "cell_type": "code",
   "execution_count": 10,
   "metadata": {},
   "outputs": [
    {
     "name": "stdout",
     "output_type": "stream",
     "text": [
      "word_tokenize output : ['By', '11', \"o'clock\", 'on', 'Sunday', ',', 'the', 'doctor', 'shall', 'open', 'the', 'dispensary', '.']\n"
     ]
    }
   ],
   "source": [
    "print(\"word_tokenize output :\",word_tokenize(rawText))"
   ]
  },
  {
   "cell_type": "code",
   "execution_count": 11,
   "metadata": {},
   "outputs": [],
   "source": [
    "#it is different from space tokenize in two ways\n",
    "#1. it is a method whereas the spacetokenizer is a class\n",
    "#2. it splits/tokenizes on the basis of words , but not the split character\n",
    "#3. most importantly it breakups words and punctuation marks as well , and that is why it is widely used"
   ]
  },
  {
   "cell_type": "markdown",
   "metadata": {},
   "source": [
    "#TweetTokenizer"
   ]
  },
  {
   "cell_type": "code",
   "execution_count": 12,
   "metadata": {},
   "outputs": [
    {
     "name": "stdout",
     "output_type": "stream",
     "text": [
      "Tweet Tokenizer output : ['This', 'is', 'a', 'cooool', '#dummysmiley', ':', ':-)', ':-P', '<3']\n"
     ]
    }
   ],
   "source": [
    "tTokenizer = TweetTokenizer()\n",
    "print(\"Tweet Tokenizer output :\",tTokenizer.tokenize(\"This is a cooool #dummysmiley: :-) :-P <3\"))"
   ]
  },
  {
   "cell_type": "code",
   "execution_count": 13,
   "metadata": {},
   "outputs": [],
   "source": [
    "#it is used to tokenize the special characters usually used in the tweets "
   ]
  },
  {
   "cell_type": "markdown",
   "metadata": {},
   "source": [
    "## Stemming"
   ]
  },
  {
   "cell_type": "code",
   "execution_count": 14,
   "metadata": {},
   "outputs": [],
   "source": [
    "#stemming is process of removing affixes from the words and return their base form\n",
    "# porterstammer and lancaster stemmer are the two stemmers present in nltk.\n",
    "# before stemming we need to tokenize the sentence using above tokeneizers\n"
   ]
  },
  {
   "cell_type": "code",
   "execution_count": 15,
   "metadata": {},
   "outputs": [],
   "source": [
    "raw = \"\"\"My name is Maximus Decimus Meridius, commander of the Armies \n",
    "of the North, General of the Felix Legions and loyal servant to the \n",
    "true emperor, Marcus Aurelius. Father to a murdered son, husband to \n",
    "a murdered wife. And I will have my vengeance, in this life or the '\\n'\n",
    "next.\"\"\""
   ]
  },
  {
   "cell_type": "code",
   "execution_count": 16,
   "metadata": {},
   "outputs": [
    {
     "name": "stdout",
     "output_type": "stream",
     "text": [
      "['My', 'name', 'is', 'Maximus', 'Decimus', 'Meridius', ',', 'commander', 'of', 'the', 'Armies', 'of', 'the', 'North', ',', 'General', 'of', 'the', 'Felix', 'Legions', 'and', 'loyal', 'servant', 'to', 'the', 'true', 'emperor', ',', 'Marcus', 'Aurelius', '.', 'Father', 'to', 'a', 'murdered', 'son', ',', 'husband', 'to', 'a', 'murdered', 'wife', '.', 'And', 'I', 'will', 'have', 'my', 'vengeance', ',', 'in', 'this', 'life', 'or', 'the', \"'\", \"'\", 'next', '.']\n"
     ]
    }
   ],
   "source": [
    "#tokenize the sentence\n",
    "token=word_tokenize(raw)\n",
    "print(token)"
   ]
  },
  {
   "cell_type": "code",
   "execution_count": 17,
   "metadata": {},
   "outputs": [],
   "source": [
    "# now import the stemmer\n",
    "# first of all lets use porterstemmer\n",
    "from nltk import PorterStemmer\n",
    "porter=PorterStemmer()"
   ]
  },
  {
   "cell_type": "code",
   "execution_count": 18,
   "metadata": {},
   "outputs": [],
   "source": [
    "# iterate over each token and save its stem\n",
    "pstems=[porter.stem(t) for t in token]"
   ]
  },
  {
   "cell_type": "code",
   "execution_count": 19,
   "metadata": {},
   "outputs": [
    {
     "name": "stdout",
     "output_type": "stream",
     "text": [
      "['My', 'name', 'is', 'maximu', 'decimu', 'meridiu', ',', 'command', 'of', 'the', 'armi', 'of', 'the', 'north', ',', 'gener', 'of', 'the', 'felix', 'legion', 'and', 'loyal', 'servant', 'to', 'the', 'true', 'emperor', ',', 'marcu', 'aureliu', '.', 'father', 'to', 'a', 'murder', 'son', ',', 'husband', 'to', 'a', 'murder', 'wife', '.', 'and', 'I', 'will', 'have', 'my', 'vengeanc', ',', 'in', 'thi', 'life', 'or', 'the', \"'\", \"'\", 'next', '.']\n"
     ]
    }
   ],
   "source": [
    "print(pstems)"
   ]
  },
  {
   "cell_type": "code",
   "execution_count": 20,
   "metadata": {},
   "outputs": [],
   "source": [
    "# Lanacaster Stemmer\n",
    "# this one is supposed to be more error prone than porter \n",
    "from nltk import LancasterStemmer\n",
    "lancaster=LancasterStemmer()"
   ]
  },
  {
   "cell_type": "code",
   "execution_count": 21,
   "metadata": {},
   "outputs": [],
   "source": [
    "lstems=[lancaster.stem(t) for t in token]"
   ]
  },
  {
   "cell_type": "code",
   "execution_count": 22,
   "metadata": {},
   "outputs": [
    {
     "name": "stdout",
     "output_type": "stream",
     "text": [
      "['my', 'nam', 'is', 'maxim', 'decim', 'meridi', ',', 'command', 'of', 'the', 'army', 'of', 'the', 'nor', ',', 'gen', 'of', 'the', 'felix', 'leg', 'and', 'loy', 'serv', 'to', 'the', 'tru', 'emp', ',', 'marc', 'aureli', '.', 'fath', 'to', 'a', 'murd', 'son', ',', 'husband', 'to', 'a', 'murd', 'wif', '.', 'and', 'i', 'wil', 'hav', 'my', 'veng', ',', 'in', 'thi', 'lif', 'or', 'the', \"'\", \"'\", 'next', '.']\n"
     ]
    }
   ],
   "source": [
    "print(lstems)"
   ]
  },
  {
   "cell_type": "markdown",
   "metadata": {},
   "source": [
    "## Lemmatization\n"
   ]
  },
  {
   "cell_type": "code",
   "execution_count": 23,
   "metadata": {},
   "outputs": [],
   "source": [
    "# It is the process similar to the stemming , but it doesn't only removes suffixes but also deals with the dictionary as well"
   ]
  },
  {
   "cell_type": "code",
   "execution_count": 24,
   "metadata": {},
   "outputs": [],
   "source": [
    "#A lemma is a lexicon headword or, more simply, the base form of a word. \n",
    "# We have already seen what a stem is, but a lemma is a dictionary-matched base form unlike the stem\n",
    "# obtained by removing/replacing the suffixes. Since it is a dictionary match, lemmatization is\n",
    "#a slower process than Stemming."
   ]
  },
  {
   "cell_type": "code",
   "execution_count": 25,
   "metadata": {},
   "outputs": [],
   "source": [
    "# we have to perform the follwoing steps first \n",
    "# tokenization - > stemmming "
   ]
  },
  {
   "cell_type": "code",
   "execution_count": 26,
   "metadata": {},
   "outputs": [],
   "source": [
    "raw = \"\"\"My name is Maximus Decimus Meridius, commander of the Armies \n",
    "of the North, General of the Felix Legions and loyal servant to the \n",
    "true emperor, Marcus Aurelius. Father to a murdered son, husband to \n",
    "a murdered wife. And I will have my vengeance, in this life or the '\\n'\n",
    "next.\"\"\""
   ]
  },
  {
   "cell_type": "code",
   "execution_count": 27,
   "metadata": {},
   "outputs": [],
   "source": [
    "tokens=word_tokenize(raw)"
   ]
  },
  {
   "cell_type": "code",
   "execution_count": 28,
   "metadata": {},
   "outputs": [],
   "source": [
    "#stemming\n",
    "pstem=[porter.stem(t) for t in tokens]"
   ]
  },
  {
   "cell_type": "code",
   "execution_count": 29,
   "metadata": {},
   "outputs": [
    {
     "name": "stdout",
     "output_type": "stream",
     "text": [
      "['My', 'name', 'is', 'maximu', 'decimu', 'meridiu', ',', 'command', 'of', 'the', 'armi', 'of', 'the', 'north', ',', 'gener', 'of', 'the', 'felix', 'legion', 'and', 'loyal', 'servant', 'to', 'the', 'true', 'emperor', ',', 'marcu', 'aureliu', '.', 'father', 'to', 'a', 'murder', 'son', ',', 'husband', 'to', 'a', 'murder', 'wife', '.', 'and', 'I', 'will', 'have', 'my', 'vengeanc', ',', 'in', 'thi', 'life', 'or', 'the', \"'\", \"'\", 'next', '.']\n"
     ]
    }
   ],
   "source": [
    "print(pstem)"
   ]
  },
  {
   "cell_type": "code",
   "execution_count": 30,
   "metadata": {},
   "outputs": [],
   "source": [
    "# Lemmatization , we use wordnet lemmatizer in nltk"
   ]
  },
  {
   "cell_type": "code",
   "execution_count": 31,
   "metadata": {},
   "outputs": [],
   "source": [
    "from nltk import WordNetLemmatizer"
   ]
  },
  {
   "cell_type": "code",
   "execution_count": 32,
   "metadata": {},
   "outputs": [],
   "source": [
    "lemmatizer=WordNetLemmatizer()"
   ]
  },
  {
   "cell_type": "code",
   "execution_count": 33,
   "metadata": {},
   "outputs": [],
   "source": [
    "lemmas=[lemmatizer.lemmatize(t) for t in tokens]"
   ]
  },
  {
   "cell_type": "code",
   "execution_count": 34,
   "metadata": {},
   "outputs": [
    {
     "name": "stdout",
     "output_type": "stream",
     "text": [
      "['My', 'name', 'is', 'Maximus', 'Decimus', 'Meridius', ',', 'commander', 'of', 'the', 'Armies', 'of', 'the', 'North', ',', 'General', 'of', 'the', 'Felix', 'Legions', 'and', 'loyal', 'servant', 'to', 'the', 'true', 'emperor', ',', 'Marcus', 'Aurelius', '.', 'Father', 'to', 'a', 'murdered', 'son', ',', 'husband', 'to', 'a', 'murdered', 'wife', '.', 'And', 'I', 'will', 'have', 'my', 'vengeance', ',', 'in', 'this', 'life', 'or', 'the', \"'\", \"'\", 'next', '.']\n"
     ]
    }
   ],
   "source": [
    "print(lemmas)"
   ]
  },
  {
   "cell_type": "code",
   "execution_count": 35,
   "metadata": {},
   "outputs": [],
   "source": [
    "#As you see, it understands that for nouns it doesn't have to remove the trailing\n",
    "#'s'. But for non-nouns, for example, legions and armies, it removes suffixes and\n",
    "#also replaces them. However, what it’s essentially doing is a dictionary match. We\n",
    "#shall discuss the difference in the output section."
   ]
  },
  {
   "cell_type": "code",
   "execution_count": 36,
   "metadata": {},
   "outputs": [],
   "source": [
    "#As we compare the output of the stemmer and the lemmatizer, we see that the stemmer\n",
    "#makes a lot of mistakes and the lemmatizer makes very few mistakes. However, it doesn't\n",
    "#do anything with the word 'murdered', and that is an error. Yet, as an end product,\n",
    "#lemmatizer does a far better job of getting us the base form than the stemmer."
   ]
  },
  {
   "cell_type": "markdown",
   "metadata": {},
   "source": [
    "## Working with Stopwords\n"
   ]
  },
  {
   "cell_type": "code",
   "execution_count": 37,
   "metadata": {},
   "outputs": [],
   "source": [
    "#Stopwords are the words that do have some syntactic value but minimal semantic value"
   ]
  },
  {
   "cell_type": "code",
   "execution_count": 38,
   "metadata": {},
   "outputs": [],
   "source": [
    "#let us use guttenberg corpus for it\n",
    "# for nltk we have stopwords class under the corpus class itself"
   ]
  },
  {
   "cell_type": "code",
   "execution_count": 39,
   "metadata": {},
   "outputs": [
    {
     "name": "stdout",
     "output_type": "stream",
     "text": [
      "['austen-emma.txt', 'austen-persuasion.txt', 'austen-sense.txt', 'bible-kjv.txt', 'blake-poems.txt', 'bryant-stories.txt', 'burgess-busterbrown.txt', 'carroll-alice.txt', 'chesterton-ball.txt', 'chesterton-brown.txt', 'chesterton-thursday.txt', 'edgeworth-parents.txt', 'melville-moby_dick.txt', 'milton-paradise.txt', 'shakespeare-caesar.txt', 'shakespeare-hamlet.txt', 'shakespeare-macbeth.txt', 'whitman-leaves.txt']\n"
     ]
    }
   ],
   "source": [
    "from nltk.corpus import gutenberg\n",
    "print(gutenberg.fileids())"
   ]
  },
  {
   "cell_type": "code",
   "execution_count": 40,
   "metadata": {},
   "outputs": [],
   "source": [
    "# lets us work on anyone of them\n",
    "#and lets do preprocessing on the words present in the file\n",
    "\n",
    "gb_words=gutenberg.words('bible-kjv.txt')"
   ]
  },
  {
   "cell_type": "code",
   "execution_count": 41,
   "metadata": {},
   "outputs": [],
   "source": [
    "# let us try to discard  the words having length less than 3\n",
    "words_filtered=[e for e in gb_words if len(e) >=3]"
   ]
  },
  {
   "cell_type": "code",
   "execution_count": 42,
   "metadata": {},
   "outputs": [],
   "source": [
    "#lets us implement stopwords treatment on the filtered words\n",
    "import nltk\n",
    "stopwords=nltk.corpus.stopwords.words('english')"
   ]
  },
  {
   "cell_type": "code",
   "execution_count": 43,
   "metadata": {},
   "outputs": [],
   "source": [
    "words=[w for w in words_filtered if w.lower() not in stopwords]"
   ]
  },
  {
   "cell_type": "code",
   "execution_count": 44,
   "metadata": {},
   "outputs": [],
   "source": [
    "# now lets us find out the freq distribution of words and gb_words\n",
    "fdistPlain=nltk.FreqDist(words)\n",
    "fdist=nltk.FreqDist(gb_words)\n"
   ]
  },
  {
   "cell_type": "code",
   "execution_count": 45,
   "metadata": {},
   "outputs": [
    {
     "name": "stdout",
     "output_type": "stream",
     "text": [
      "Following are the most common 10 words in the bag\n",
      "[('shall', 9760), ('unto', 8940), ('LORD', 6651), ('thou', 4890), ('thy', 4450), ('God', 4115), ('said', 3995), ('thee', 3827), ('upon', 2730), ('man', 2721)]\n",
      "Following are the most common 10 words in the bag minus the stopwords\n",
      "[(',', 70509), ('the', 62103), (':', 43766), ('and', 38847), ('of', 34480), ('.', 26160), ('to', 13396), ('And', 12846), ('that', 12576), ('in', 12331)]\n"
     ]
    }
   ],
   "source": [
    "print('Following are the most common 10 words in the bag')\n",
    "print(fdistPlain.most_common(10))\n",
    "print('Following are the most common 10 words in the bag minus the stopwords')\n",
    "print(fdist.most_common(10))"
   ]
  },
  {
   "cell_type": "markdown",
   "metadata": {},
   "source": [
    "## More examples for lemmatization and stemming"
   ]
  },
  {
   "cell_type": "code",
   "execution_count": 46,
   "metadata": {},
   "outputs": [],
   "source": [
    "text=\"\"\"Stemming is funnier than a bummer says the sushi loving computer\n",
    "scientist.She really wants to buy cars. She told me angrily.It is better\n",
    "for you. Man is walking. We are meeting tomorrow.\"\"\""
   ]
  },
  {
   "cell_type": "code",
   "execution_count": 47,
   "metadata": {},
   "outputs": [],
   "source": [
    "from nltk import PorterStemmer,WordNetLemmatizer"
   ]
  },
  {
   "cell_type": "code",
   "execution_count": 48,
   "metadata": {},
   "outputs": [],
   "source": [
    "pt=PorterStemmer()\n",
    "wn=WordNetLemmatizer()"
   ]
  },
  {
   "cell_type": "code",
   "execution_count": 49,
   "metadata": {},
   "outputs": [],
   "source": [
    "tk_text=word_tokenize(text)"
   ]
  },
  {
   "cell_type": "code",
   "execution_count": 50,
   "metadata": {},
   "outputs": [],
   "source": [
    "pt_stem=[pt.stem(t) for t in tk_text]"
   ]
  },
  {
   "cell_type": "code",
   "execution_count": 51,
   "metadata": {},
   "outputs": [],
   "source": [
    "wn_lemmas=[wn.lemmatize(t) for t in tk_text]"
   ]
  },
  {
   "cell_type": "code",
   "execution_count": 52,
   "metadata": {},
   "outputs": [
    {
     "name": "stdout",
     "output_type": "stream",
     "text": [
      "['Stemming', 'is', 'funnier', 'than', 'a', 'bummer', 'says', 'the', 'sushi', 'loving', 'computer', 'scientist.She', 'really', 'wants', 'to', 'buy', 'cars', '.', 'She', 'told', 'me', 'angrily.It', 'is', 'better', 'for', 'you', '.', 'Man', 'is', 'walking', '.', 'We', 'are', 'meeting', 'tomorrow', '.']\n"
     ]
    }
   ],
   "source": [
    "print(tk_text)"
   ]
  },
  {
   "cell_type": "code",
   "execution_count": 53,
   "metadata": {},
   "outputs": [
    {
     "name": "stdout",
     "output_type": "stream",
     "text": [
      "['stem', 'is', 'funnier', 'than', 'a', 'bummer', 'say', 'the', 'sushi', 'love', 'comput', 'scientist.sh', 'realli', 'want', 'to', 'buy', 'car', '.', 'she', 'told', 'me', 'angrily.it', 'is', 'better', 'for', 'you', '.', 'man', 'is', 'walk', '.', 'We', 'are', 'meet', 'tomorrow', '.']\n"
     ]
    }
   ],
   "source": [
    "print(pt_stem)"
   ]
  },
  {
   "cell_type": "code",
   "execution_count": 54,
   "metadata": {},
   "outputs": [
    {
     "name": "stdout",
     "output_type": "stream",
     "text": [
      "['Stemming', 'is', 'funnier', 'than', 'a', 'bummer', 'say', 'the', 'sushi', 'loving', 'computer', 'scientist.She', 'really', 'want', 'to', 'buy', 'car', '.', 'She', 'told', 'me', 'angrily.It', 'is', 'better', 'for', 'you', '.', 'Man', 'is', 'walking', '.', 'We', 'are', 'meeting', 'tomorrow', '.']\n"
     ]
    }
   ],
   "source": [
    "print(wn_lemmas)"
   ]
  },
  {
   "cell_type": "code",
   "execution_count": 55,
   "metadata": {},
   "outputs": [
    {
     "name": "stdout",
     "output_type": "stream",
     "text": [
      "['Stemming', 'is', 'funnier', 'than', 'a', 'bummer', 'say', 'the', 'sushi', 'loving', 'computer', 'scientist.She', 'really', 'want', 'to', 'buy', 'car', '.', 'She', 'told', 'me', 'angrily.It', 'is', 'better', 'for', 'you', '.', 'Man', 'is', 'walking', '.', 'We', 'are', 'meeting', 'tomorrow', '.']\n"
     ]
    }
   ],
   "source": [
    "#we can also define to find noun lemmas or adjective or adverb or verb\n",
    "noun_lemmas=[wn.lemmatize(t,'n') for t in tk_text]\n",
    "print(noun_lemmas)"
   ]
  },
  {
   "cell_type": "code",
   "execution_count": 56,
   "metadata": {},
   "outputs": [
    {
     "name": "stdout",
     "output_type": "stream",
     "text": [
      "['Stemming', 'be', 'funnier', 'than', 'a', 'bummer', 'say', 'the', 'sushi', 'love', 'computer', 'scientist.She', 'really', 'want', 'to', 'buy', 'cars', '.', 'She', 'tell', 'me', 'angrily.It', 'be', 'better', 'for', 'you', '.', 'Man', 'be', 'walk', '.', 'We', 'be', 'meet', 'tomorrow', '.']\n"
     ]
    }
   ],
   "source": [
    "verb_lemmas=[wn.lemmatize(t,'v') for t in tk_text]\n",
    "print(verb_lemmas)"
   ]
  },
  {
   "cell_type": "code",
   "execution_count": 57,
   "metadata": {},
   "outputs": [],
   "source": [
    "from nltk.corpus import stopwords\n",
    "st_remove=[word for word in text.split() if word not in stopwords.words('english')]"
   ]
  },
  {
   "cell_type": "code",
   "execution_count": 58,
   "metadata": {},
   "outputs": [
    {
     "data": {
      "text/plain": [
       "['Stemming',\n",
       " 'funnier',\n",
       " 'bummer',\n",
       " 'says',\n",
       " 'sushi',\n",
       " 'loving',\n",
       " 'computer',\n",
       " 'scientist.She',\n",
       " 'really',\n",
       " 'wants',\n",
       " 'buy',\n",
       " 'cars.',\n",
       " 'She',\n",
       " 'told',\n",
       " 'angrily.It',\n",
       " 'better',\n",
       " 'you.',\n",
       " 'Man',\n",
       " 'walking.',\n",
       " 'We',\n",
       " 'meeting',\n",
       " 'tomorrow.']"
      ]
     },
     "execution_count": 58,
     "metadata": {},
     "output_type": "execute_result"
    }
   ],
   "source": [
    "st_remove"
   ]
  },
  {
   "cell_type": "code",
   "execution_count": 59,
   "metadata": {},
   "outputs": [],
   "source": [
    "org_words=[word for word in text.split()]"
   ]
  },
  {
   "cell_type": "code",
   "execution_count": 60,
   "metadata": {},
   "outputs": [],
   "source": [
    "li=[org_words,st_remove]"
   ]
  },
  {
   "cell_type": "code",
   "execution_count": 61,
   "metadata": {},
   "outputs": [],
   "source": [
    "import pandas as pd"
   ]
  },
  {
   "cell_type": "code",
   "execution_count": 62,
   "metadata": {},
   "outputs": [],
   "source": [
    "df=pd.DataFrame(li)"
   ]
  },
  {
   "cell_type": "code",
   "execution_count": 63,
   "metadata": {},
   "outputs": [
    {
     "data": {
      "text/html": [
       "<div>\n",
       "<style scoped>\n",
       "    .dataframe tbody tr th:only-of-type {\n",
       "        vertical-align: middle;\n",
       "    }\n",
       "\n",
       "    .dataframe tbody tr th {\n",
       "        vertical-align: top;\n",
       "    }\n",
       "\n",
       "    .dataframe thead th {\n",
       "        text-align: right;\n",
       "    }\n",
       "</style>\n",
       "<table border=\"1\" class=\"dataframe\">\n",
       "  <thead>\n",
       "    <tr style=\"text-align: right;\">\n",
       "      <th></th>\n",
       "      <th>0</th>\n",
       "      <th>1</th>\n",
       "      <th>2</th>\n",
       "      <th>3</th>\n",
       "      <th>4</th>\n",
       "      <th>5</th>\n",
       "      <th>6</th>\n",
       "      <th>7</th>\n",
       "      <th>8</th>\n",
       "      <th>9</th>\n",
       "      <th>...</th>\n",
       "      <th>22</th>\n",
       "      <th>23</th>\n",
       "      <th>24</th>\n",
       "      <th>25</th>\n",
       "      <th>26</th>\n",
       "      <th>27</th>\n",
       "      <th>28</th>\n",
       "      <th>29</th>\n",
       "      <th>30</th>\n",
       "      <th>31</th>\n",
       "    </tr>\n",
       "  </thead>\n",
       "  <tbody>\n",
       "    <tr>\n",
       "      <th>0</th>\n",
       "      <td>Stemming</td>\n",
       "      <td>is</td>\n",
       "      <td>funnier</td>\n",
       "      <td>than</td>\n",
       "      <td>a</td>\n",
       "      <td>bummer</td>\n",
       "      <td>says</td>\n",
       "      <td>the</td>\n",
       "      <td>sushi</td>\n",
       "      <td>loving</td>\n",
       "      <td>...</td>\n",
       "      <td>better</td>\n",
       "      <td>for</td>\n",
       "      <td>you.</td>\n",
       "      <td>Man</td>\n",
       "      <td>is</td>\n",
       "      <td>walking.</td>\n",
       "      <td>We</td>\n",
       "      <td>are</td>\n",
       "      <td>meeting</td>\n",
       "      <td>tomorrow.</td>\n",
       "    </tr>\n",
       "    <tr>\n",
       "      <th>1</th>\n",
       "      <td>Stemming</td>\n",
       "      <td>funnier</td>\n",
       "      <td>bummer</td>\n",
       "      <td>says</td>\n",
       "      <td>sushi</td>\n",
       "      <td>loving</td>\n",
       "      <td>computer</td>\n",
       "      <td>scientist.She</td>\n",
       "      <td>really</td>\n",
       "      <td>wants</td>\n",
       "      <td>...</td>\n",
       "      <td>None</td>\n",
       "      <td>None</td>\n",
       "      <td>None</td>\n",
       "      <td>None</td>\n",
       "      <td>None</td>\n",
       "      <td>None</td>\n",
       "      <td>None</td>\n",
       "      <td>None</td>\n",
       "      <td>None</td>\n",
       "      <td>None</td>\n",
       "    </tr>\n",
       "  </tbody>\n",
       "</table>\n",
       "<p>2 rows × 32 columns</p>\n",
       "</div>"
      ],
      "text/plain": [
       "         0        1        2     3      4       5         6              7   \\\n",
       "0  Stemming       is  funnier  than      a  bummer      says            the   \n",
       "1  Stemming  funnier   bummer  says  sushi  loving  computer  scientist.She   \n",
       "\n",
       "       8       9     ...          22    23    24    25    26        27    28  \\\n",
       "0   sushi  loving    ...      better   for  you.   Man    is  walking.    We   \n",
       "1  really   wants    ...        None  None  None  None  None      None  None   \n",
       "\n",
       "     29       30         31  \n",
       "0   are  meeting  tomorrow.  \n",
       "1  None     None       None  \n",
       "\n",
       "[2 rows x 32 columns]"
      ]
     },
     "execution_count": 63,
     "metadata": {},
     "output_type": "execute_result"
    }
   ],
   "source": [
    "df"
   ]
  },
  {
   "cell_type": "code",
   "execution_count": 64,
   "metadata": {},
   "outputs": [],
   "source": [
    "#freq count of all words and not stop words\n",
    "import nltk\n",
    "fdist=nltk.FreqDist(st_remove)"
   ]
  },
  {
   "cell_type": "code",
   "execution_count": 65,
   "metadata": {},
   "outputs": [
    {
     "data": {
      "image/png": "[encoded data removed]",
      "text/plain": [
       "<matplotlib.figure.Figure at 0x1dd1e3b87b8>"
      ]
     },
     "metadata": {},
     "output_type": "display_data"
    }
   ],
   "source": [
    "import matplotlib.pyplot as plt\n",
    "%matplotlib inline\n",
    "fdist.plot()\n",
    "plt.show()\n"
   ]
  },
  {
   "cell_type": "code",
   "execution_count": 66,
   "metadata": {},
   "outputs": [],
   "source": [
    "fdist1=nltk.FreqDist(org_words)"
   ]
  },
  {
   "cell_type": "code",
   "execution_count": 67,
   "metadata": {},
   "outputs": [
    {
     "data": {
      "image/png": "[encoded data removed]",
      "text/plain": [
       "<matplotlib.figure.Figure at 0x1dd1e3c3080>"
      ]
     },
     "metadata": {},
     "output_type": "display_data"
    }
   ],
   "source": [
    "fdist1.plot()\n",
    "plt.show()"
   ]
  },
  {
   "cell_type": "code",
   "execution_count": 68,
   "metadata": {},
   "outputs": [],
   "source": [
    "from nltk.corpus import brown as br"
   ]
  },
  {
   "cell_type": "code",
   "execution_count": 69,
   "metadata": {},
   "outputs": [],
   "source": [
    "num_words=len(br.words())"
   ]
  },
  {
   "cell_type": "code",
   "execution_count": 70,
   "metadata": {},
   "outputs": [
    {
     "name": "stdout",
     "output_type": "stream",
     "text": [
      "1161192\n"
     ]
    }
   ],
   "source": [
    "print(num_words)"
   ]
  },
  {
   "cell_type": "code",
   "execution_count": 71,
   "metadata": {},
   "outputs": [
    {
     "name": "stdout",
     "output_type": "stream",
     "text": [
      "['ca01', 'ca02', 'ca03', 'ca04', 'ca05', 'ca06', 'ca07', 'ca08', 'ca09', 'ca10', 'ca11', 'ca12', 'ca13', 'ca14', 'ca15', 'ca16', 'ca17', 'ca18', 'ca19', 'ca20', 'ca21', 'ca22', 'ca23', 'ca24', 'ca25', 'ca26', 'ca27', 'ca28', 'ca29', 'ca30', 'ca31', 'ca32', 'ca33', 'ca34', 'ca35', 'ca36', 'ca37', 'ca38', 'ca39', 'ca40', 'ca41', 'ca42', 'ca43', 'ca44', 'cb01', 'cb02', 'cb03', 'cb04', 'cb05', 'cb06', 'cb07', 'cb08', 'cb09', 'cb10', 'cb11', 'cb12', 'cb13', 'cb14', 'cb15', 'cb16', 'cb17', 'cb18', 'cb19', 'cb20', 'cb21', 'cb22', 'cb23', 'cb24', 'cb25', 'cb26', 'cb27', 'cc01', 'cc02', 'cc03', 'cc04', 'cc05', 'cc06', 'cc07', 'cc08', 'cc09', 'cc10', 'cc11', 'cc12', 'cc13', 'cc14', 'cc15', 'cc16', 'cc17', 'cd01', 'cd02', 'cd03', 'cd04', 'cd05', 'cd06', 'cd07', 'cd08', 'cd09', 'cd10', 'cd11', 'cd12', 'cd13', 'cd14', 'cd15', 'cd16', 'cd17', 'ce01', 'ce02', 'ce03', 'ce04', 'ce05', 'ce06', 'ce07', 'ce08', 'ce09', 'ce10', 'ce11', 'ce12', 'ce13', 'ce14', 'ce15', 'ce16', 'ce17', 'ce18', 'ce19', 'ce20', 'ce21', 'ce22', 'ce23', 'ce24', 'ce25', 'ce26', 'ce27', 'ce28', 'ce29', 'ce30', 'ce31', 'ce32', 'ce33', 'ce34', 'ce35', 'ce36', 'cf01', 'cf02', 'cf03', 'cf04', 'cf05', 'cf06', 'cf07', 'cf08', 'cf09', 'cf10', 'cf11', 'cf12', 'cf13', 'cf14', 'cf15', 'cf16', 'cf17', 'cf18', 'cf19', 'cf20', 'cf21', 'cf22', 'cf23', 'cf24', 'cf25', 'cf26', 'cf27', 'cf28', 'cf29', 'cf30', 'cf31', 'cf32', 'cf33', 'cf34', 'cf35', 'cf36', 'cf37', 'cf38', 'cf39', 'cf40', 'cf41', 'cf42', 'cf43', 'cf44', 'cf45', 'cf46', 'cf47', 'cf48', 'cg01', 'cg02', 'cg03', 'cg04', 'cg05', 'cg06', 'cg07', 'cg08', 'cg09', 'cg10', 'cg11', 'cg12', 'cg13', 'cg14', 'cg15', 'cg16', 'cg17', 'cg18', 'cg19', 'cg20', 'cg21', 'cg22', 'cg23', 'cg24', 'cg25', 'cg26', 'cg27', 'cg28', 'cg29', 'cg30', 'cg31', 'cg32', 'cg33', 'cg34', 'cg35', 'cg36', 'cg37', 'cg38', 'cg39', 'cg40', 'cg41', 'cg42', 'cg43', 'cg44', 'cg45', 'cg46', 'cg47', 'cg48', 'cg49', 'cg50', 'cg51', 'cg52', 'cg53', 'cg54', 'cg55', 'cg56', 'cg57', 'cg58', 'cg59', 'cg60', 'cg61', 'cg62', 'cg63', 'cg64', 'cg65', 'cg66', 'cg67', 'cg68', 'cg69', 'cg70', 'cg71', 'cg72', 'cg73', 'cg74', 'cg75', 'ch01', 'ch02', 'ch03', 'ch04', 'ch05', 'ch06', 'ch07', 'ch08', 'ch09', 'ch10', 'ch11', 'ch12', 'ch13', 'ch14', 'ch15', 'ch16', 'ch17', 'ch18', 'ch19', 'ch20', 'ch21', 'ch22', 'ch23', 'ch24', 'ch25', 'ch26', 'ch27', 'ch28', 'ch29', 'ch30', 'cj01', 'cj02', 'cj03', 'cj04', 'cj05', 'cj06', 'cj07', 'cj08', 'cj09', 'cj10', 'cj11', 'cj12', 'cj13', 'cj14', 'cj15', 'cj16', 'cj17', 'cj18', 'cj19', 'cj20', 'cj21', 'cj22', 'cj23', 'cj24', 'cj25', 'cj26', 'cj27', 'cj28', 'cj29', 'cj30', 'cj31', 'cj32', 'cj33', 'cj34', 'cj35', 'cj36', 'cj37', 'cj38', 'cj39', 'cj40', 'cj41', 'cj42', 'cj43', 'cj44', 'cj45', 'cj46', 'cj47', 'cj48', 'cj49', 'cj50', 'cj51', 'cj52', 'cj53', 'cj54', 'cj55', 'cj56', 'cj57', 'cj58', 'cj59', 'cj60', 'cj61', 'cj62', 'cj63', 'cj64', 'cj65', 'cj66', 'cj67', 'cj68', 'cj69', 'cj70', 'cj71', 'cj72', 'cj73', 'cj74', 'cj75', 'cj76', 'cj77', 'cj78', 'cj79', 'cj80', 'ck01', 'ck02', 'ck03', 'ck04', 'ck05', 'ck06', 'ck07', 'ck08', 'ck09', 'ck10', 'ck11', 'ck12', 'ck13', 'ck14', 'ck15', 'ck16', 'ck17', 'ck18', 'ck19', 'ck20', 'ck21', 'ck22', 'ck23', 'ck24', 'ck25', 'ck26', 'ck27', 'ck28', 'ck29', 'cl01', 'cl02', 'cl03', 'cl04', 'cl05', 'cl06', 'cl07', 'cl08', 'cl09', 'cl10', 'cl11', 'cl12', 'cl13', 'cl14', 'cl15', 'cl16', 'cl17', 'cl18', 'cl19', 'cl20', 'cl21', 'cl22', 'cl23', 'cl24', 'cm01', 'cm02', 'cm03', 'cm04', 'cm05', 'cm06', 'cn01', 'cn02', 'cn03', 'cn04', 'cn05', 'cn06', 'cn07', 'cn08', 'cn09', 'cn10', 'cn11', 'cn12', 'cn13', 'cn14', 'cn15', 'cn16', 'cn17', 'cn18', 'cn19', 'cn20', 'cn21', 'cn22', 'cn23', 'cn24', 'cn25', 'cn26', 'cn27', 'cn28', 'cn29', 'cp01', 'cp02', 'cp03', 'cp04', 'cp05', 'cp06', 'cp07', 'cp08', 'cp09', 'cp10', 'cp11', 'cp12', 'cp13', 'cp14', 'cp15', 'cp16', 'cp17', 'cp18', 'cp19', 'cp20', 'cp21', 'cp22', 'cp23', 'cp24', 'cp25', 'cp26', 'cp27', 'cp28', 'cp29', 'cr01', 'cr02', 'cr03', 'cr04', 'cr05', 'cr06', 'cr07', 'cr08', 'cr09']\n"
     ]
    }
   ],
   "source": [
    "print(br.fileids())"
   ]
  },
  {
   "cell_type": "code",
   "execution_count": 72,
   "metadata": {},
   "outputs": [
    {
     "name": "stdout",
     "output_type": "stream",
     "text": [
      "['adventure', 'belles_lettres', 'editorial', 'fiction', 'government', 'hobbies', 'humor', 'learned', 'lore', 'mystery', 'news', 'religion', 'reviews', 'romance', 'science_fiction']\n"
     ]
    }
   ],
   "source": [
    "print(br.categories())"
   ]
  },
  {
   "cell_type": "code",
   "execution_count": 73,
   "metadata": {},
   "outputs": [],
   "source": [
    "words=br.words(categories='adventure')"
   ]
  },
  {
   "cell_type": "code",
   "execution_count": 74,
   "metadata": {},
   "outputs": [],
   "source": [
    "lemmas=[wn.lemmatize(t) for t in words]"
   ]
  },
  {
   "cell_type": "code",
   "execution_count": 75,
   "metadata": {},
   "outputs": [],
   "source": [
    "stop_words= [wd for wd in words if wd not in stopwords.words('english')]"
   ]
  },
  {
   "cell_type": "code",
   "execution_count": 76,
   "metadata": {},
   "outputs": [
    {
     "data": {
      "image/png": "[encoded data removed]",
      "text/plain": [
       "<matplotlib.figure.Figure at 0x1dd1ee54b38>"
      ]
     },
     "metadata": {},
     "output_type": "display_data"
    }
   ],
   "source": [
    "fdis=nltk.FreqDist(stop_words)\n",
    "fdis.plot()\n",
    "plt.show()"
   ]
  },
  {
   "cell_type": "code",
   "execution_count": 77,
   "metadata": {},
   "outputs": [
    {
     "name": "stdout",
     "output_type": "stream",
     "text": [
      "[('.', 4057), (',', 3488), ('``', 998), (\"''\", 995), ('I', 652), ('He', 522), ('?', 518), ('The', 410), ('!', 314), ('said', 287)]\n"
     ]
    }
   ],
   "source": [
    "common=fdis.most_common(10)\n",
    "print(common)"
   ]
  },
  {
   "cell_type": "code",
   "execution_count": 78,
   "metadata": {},
   "outputs": [
    {
     "name": "stdout",
     "output_type": "stream",
     "text": [
      ".\n"
     ]
    }
   ],
   "source": [
    "#most common\n",
    "print(fdis.max())"
   ]
  },
  {
   "cell_type": "code",
   "execution_count": 79,
   "metadata": {},
   "outputs": [
    {
     "name": "stdout",
     "output_type": "stream",
     "text": [
      "<bound method FreqDist.N of FreqDist({'.': 4057, ',': 3488, '``': 998, \"''\": 995, 'I': 652, 'He': 522, '?': 518, 'The': 410, '!': 314, 'said': 287, ...})>\n"
     ]
    }
   ],
   "source": [
    "#tabulate\n",
    "print(fdis.N)"
   ]
  },
  {
   "cell_type": "code",
   "execution_count": 97,
   "metadata": {},
   "outputs": [],
   "source": [
    "#reading raw file\n",
    "fl=open(r\"C:\\Users\\abhinav\\Desktop\\test.txt\").read()"
   ]
  },
  {
   "cell_type": "code",
   "execution_count": 100,
   "metadata": {},
   "outputs": [
    {
     "name": "stdout",
     "output_type": "stream",
     "text": [
      "At first glance, you would ask, what's the big deal about finding out the sentence boundary\n",
      "from the given raw text?\n",
      "Sentence tokenization varies from language to language.\n",
      "Things get complicated when you have the following scenarios to handle. We are using\n",
      "examples to explain the cases:\n",
      "If there is small letter after a dot, then the sentence should not split after the dot. The\n",
      "following is an example:\n",
      "Sentence: He has completed his Ph.D. degree. He is happy.\n",
      "In the preceding example, the sentence tokenizer should split the sentence\n",
      "after degree, not after Ph.D.\n",
      "If there is a small letter after the dot, then the sentence should be split after the dot.\n",
      "This is a common mistake. Let's take an example:\n",
      "Sentence: This is an apple.an apple is good for health.\n",
      "In the preceding example, the sentence tokenizer should split the sentence\n",
      "after apple.\n",
      "If there is an initial name in the sentence, then the sentence should not split after the\n",
      "initials:\n",
      "Sentence: Harry Potter was written by J.K. Rowling. It is an entertaining one.\n",
      "In the preceding example, the sentence should not split after J. It should\n",
      "ideally split after Rowling.\n",
      "Grammarly Inc., the grammar correction software, customized a rule for the\n",
      "identification of sentences and achieves high accuracy for sentence boundary detection.\n",
      "See the blog link:\n",
      "h t t p s ://t e c h . g r a m m a r l y . c o m /b l o g /p o s t s /H o w - t o - S p l i t - S e n t e n c e s . h t m l .\n",
      "To overcome the previous challenges, you can take the following approaches, but the\n",
      "accuracy of each approach depends on the implementation. The approaches are as follows:\n"
     ]
    }
   ],
   "source": [
    "type(fl)\n",
    "print(fl)"
   ]
  },
  {
   "cell_type": "code",
   "execution_count": 101,
   "metadata": {},
   "outputs": [],
   "source": [
    "tk=word_tokenize(fl)"
   ]
  },
  {
   "cell_type": "code",
   "execution_count": 103,
   "metadata": {},
   "outputs": [],
   "source": [
    "#stemming\n",
    "stems=[pt.stem(t) for t in tk]"
   ]
  },
  {
   "cell_type": "code",
   "execution_count": 105,
   "metadata": {},
   "outputs": [],
   "source": [
    "#lemmatizing\n",
    "lemmas=[wn.lemmatize(t) for t in tk]"
   ]
  },
  {
   "cell_type": "code",
   "execution_count": 106,
   "metadata": {},
   "outputs": [
    {
     "data": {
      "text/plain": [
       "['At',\n",
       " 'first',\n",
       " 'glance',\n",
       " ',',\n",
       " 'you',\n",
       " 'would',\n",
       " 'ask',\n",
       " ',',\n",
       " 'what',\n",
       " \"'s\",\n",
       " 'the',\n",
       " 'big',\n",
       " 'deal',\n",
       " 'about',\n",
       " 'finding',\n",
       " 'out',\n",
       " 'the',\n",
       " 'sentence',\n",
       " 'boundary',\n",
       " 'from',\n",
       " 'the',\n",
       " 'given',\n",
       " 'raw',\n",
       " 'text',\n",
       " '?',\n",
       " 'Sentence',\n",
       " 'tokenization',\n",
       " 'varies',\n",
       " 'from',\n",
       " 'language',\n",
       " 'to',\n",
       " 'language',\n",
       " '.',\n",
       " 'Things',\n",
       " 'get',\n",
       " 'complicated',\n",
       " 'when',\n",
       " 'you',\n",
       " 'have',\n",
       " 'the',\n",
       " 'following',\n",
       " 'scenario',\n",
       " 'to',\n",
       " 'handle',\n",
       " '.',\n",
       " 'We',\n",
       " 'are',\n",
       " 'using',\n",
       " 'example',\n",
       " 'to',\n",
       " 'explain',\n",
       " 'the',\n",
       " 'case',\n",
       " ':',\n",
       " 'If',\n",
       " 'there',\n",
       " 'is',\n",
       " 'small',\n",
       " 'letter',\n",
       " 'after',\n",
       " 'a',\n",
       " 'dot',\n",
       " ',',\n",
       " 'then',\n",
       " 'the',\n",
       " 'sentence',\n",
       " 'should',\n",
       " 'not',\n",
       " 'split',\n",
       " 'after',\n",
       " 'the',\n",
       " 'dot',\n",
       " '.',\n",
       " 'The',\n",
       " 'following',\n",
       " 'is',\n",
       " 'an',\n",
       " 'example',\n",
       " ':',\n",
       " 'Sentence',\n",
       " ':',\n",
       " 'He',\n",
       " 'ha',\n",
       " 'completed',\n",
       " 'his',\n",
       " 'Ph.D.',\n",
       " 'degree',\n",
       " '.',\n",
       " 'He',\n",
       " 'is',\n",
       " 'happy',\n",
       " '.',\n",
       " 'In',\n",
       " 'the',\n",
       " 'preceding',\n",
       " 'example',\n",
       " ',',\n",
       " 'the',\n",
       " 'sentence',\n",
       " 'tokenizer',\n",
       " 'should',\n",
       " 'split',\n",
       " 'the',\n",
       " 'sentence',\n",
       " 'after',\n",
       " 'degree',\n",
       " ',',\n",
       " 'not',\n",
       " 'after',\n",
       " 'Ph.D',\n",
       " '.',\n",
       " 'If',\n",
       " 'there',\n",
       " 'is',\n",
       " 'a',\n",
       " 'small',\n",
       " 'letter',\n",
       " 'after',\n",
       " 'the',\n",
       " 'dot',\n",
       " ',',\n",
       " 'then',\n",
       " 'the',\n",
       " 'sentence',\n",
       " 'should',\n",
       " 'be',\n",
       " 'split',\n",
       " 'after',\n",
       " 'the',\n",
       " 'dot',\n",
       " '.',\n",
       " 'This',\n",
       " 'is',\n",
       " 'a',\n",
       " 'common',\n",
       " 'mistake',\n",
       " '.',\n",
       " 'Let',\n",
       " \"'s\",\n",
       " 'take',\n",
       " 'an',\n",
       " 'example',\n",
       " ':',\n",
       " 'Sentence',\n",
       " ':',\n",
       " 'This',\n",
       " 'is',\n",
       " 'an',\n",
       " 'apple.an',\n",
       " 'apple',\n",
       " 'is',\n",
       " 'good',\n",
       " 'for',\n",
       " 'health',\n",
       " '.',\n",
       " 'In',\n",
       " 'the',\n",
       " 'preceding',\n",
       " 'example',\n",
       " ',',\n",
       " 'the',\n",
       " 'sentence',\n",
       " 'tokenizer',\n",
       " 'should',\n",
       " 'split',\n",
       " 'the',\n",
       " 'sentence',\n",
       " 'after',\n",
       " 'apple',\n",
       " '.',\n",
       " 'If',\n",
       " 'there',\n",
       " 'is',\n",
       " 'an',\n",
       " 'initial',\n",
       " 'name',\n",
       " 'in',\n",
       " 'the',\n",
       " 'sentence',\n",
       " ',',\n",
       " 'then',\n",
       " 'the',\n",
       " 'sentence',\n",
       " 'should',\n",
       " 'not',\n",
       " 'split',\n",
       " 'after',\n",
       " 'the',\n",
       " 'initial',\n",
       " ':',\n",
       " 'Sentence',\n",
       " ':',\n",
       " 'Harry',\n",
       " 'Potter',\n",
       " 'wa',\n",
       " 'written',\n",
       " 'by',\n",
       " 'J.K.',\n",
       " 'Rowling',\n",
       " '.',\n",
       " 'It',\n",
       " 'is',\n",
       " 'an',\n",
       " 'entertaining',\n",
       " 'one',\n",
       " '.',\n",
       " 'In',\n",
       " 'the',\n",
       " 'preceding',\n",
       " 'example',\n",
       " ',',\n",
       " 'the',\n",
       " 'sentence',\n",
       " 'should',\n",
       " 'not',\n",
       " 'split',\n",
       " 'after',\n",
       " 'J',\n",
       " '.',\n",
       " 'It',\n",
       " 'should',\n",
       " 'ideally',\n",
       " 'split',\n",
       " 'after',\n",
       " 'Rowling',\n",
       " '.',\n",
       " 'Grammarly',\n",
       " 'Inc.',\n",
       " ',',\n",
       " 'the',\n",
       " 'grammar',\n",
       " 'correction',\n",
       " 'software',\n",
       " ',',\n",
       " 'customized',\n",
       " 'a',\n",
       " 'rule',\n",
       " 'for',\n",
       " 'the',\n",
       " 'identification',\n",
       " 'of',\n",
       " 'sentence',\n",
       " 'and',\n",
       " 'achieves',\n",
       " 'high',\n",
       " 'accuracy',\n",
       " 'for',\n",
       " 'sentence',\n",
       " 'boundary',\n",
       " 'detection',\n",
       " '.',\n",
       " 'See',\n",
       " 'the',\n",
       " 'blog',\n",
       " 'link',\n",
       " ':',\n",
       " 'h',\n",
       " 't',\n",
       " 't',\n",
       " 'p',\n",
       " 's',\n",
       " ':',\n",
       " '//t',\n",
       " 'e',\n",
       " 'c',\n",
       " 'h',\n",
       " '.',\n",
       " 'g',\n",
       " 'r',\n",
       " 'a',\n",
       " 'm',\n",
       " 'm',\n",
       " 'a',\n",
       " 'r',\n",
       " 'l',\n",
       " 'y',\n",
       " '.',\n",
       " 'c',\n",
       " 'o',\n",
       " 'm',\n",
       " '/b',\n",
       " 'l',\n",
       " 'o',\n",
       " 'g',\n",
       " '/p',\n",
       " 'o',\n",
       " 's',\n",
       " 't',\n",
       " 's',\n",
       " '/H',\n",
       " 'o',\n",
       " 'w',\n",
       " '-',\n",
       " 't',\n",
       " 'o',\n",
       " '-',\n",
       " 'S',\n",
       " 'p',\n",
       " 'l',\n",
       " 'i',\n",
       " 't',\n",
       " '-',\n",
       " 'S',\n",
       " 'e',\n",
       " 'n',\n",
       " 't',\n",
       " 'e',\n",
       " 'n',\n",
       " 'c',\n",
       " 'e',\n",
       " 's',\n",
       " '.',\n",
       " 'h',\n",
       " 't',\n",
       " 'm',\n",
       " 'l',\n",
       " '.',\n",
       " 'To',\n",
       " 'overcome',\n",
       " 'the',\n",
       " 'previous',\n",
       " 'challenge',\n",
       " ',',\n",
       " 'you',\n",
       " 'can',\n",
       " 'take',\n",
       " 'the',\n",
       " 'following',\n",
       " 'approach',\n",
       " ',',\n",
       " 'but',\n",
       " 'the',\n",
       " 'accuracy',\n",
       " 'of',\n",
       " 'each',\n",
       " 'approach',\n",
       " 'depends',\n",
       " 'on',\n",
       " 'the',\n",
       " 'implementation',\n",
       " '.',\n",
       " 'The',\n",
       " 'approach',\n",
       " 'are',\n",
       " 'a',\n",
       " 'follows',\n",
       " ':']"
      ]
     },
     "execution_count": 106,
     "metadata": {},
     "output_type": "execute_result"
    }
   ],
   "source": [
    "lemmas"
   ]
  },
  {
   "cell_type": "code",
   "execution_count": 107,
   "metadata": {},
   "outputs": [],
   "source": [
    "#removing stop words\n",
    "st_words=[words for words in tk if tk not in stopwords.words('english')]"
   ]
  },
  {
   "cell_type": "code",
   "execution_count": 108,
   "metadata": {},
   "outputs": [
    {
     "data": {
      "text/plain": [
       "['At',\n",
       " 'first',\n",
       " 'glance',\n",
       " ',',\n",
       " 'you',\n",
       " 'would',\n",
       " 'ask',\n",
       " ',',\n",
       " 'what',\n",
       " \"'s\",\n",
       " 'the',\n",
       " 'big',\n",
       " 'deal',\n",
       " 'about',\n",
       " 'finding',\n",
       " 'out',\n",
       " 'the',\n",
       " 'sentence',\n",
       " 'boundary',\n",
       " 'from',\n",
       " 'the',\n",
       " 'given',\n",
       " 'raw',\n",
       " 'text',\n",
       " '?',\n",
       " 'Sentence',\n",
       " 'tokenization',\n",
       " 'varies',\n",
       " 'from',\n",
       " 'language',\n",
       " 'to',\n",
       " 'language',\n",
       " '.',\n",
       " 'Things',\n",
       " 'get',\n",
       " 'complicated',\n",
       " 'when',\n",
       " 'you',\n",
       " 'have',\n",
       " 'the',\n",
       " 'following',\n",
       " 'scenarios',\n",
       " 'to',\n",
       " 'handle',\n",
       " '.',\n",
       " 'We',\n",
       " 'are',\n",
       " 'using',\n",
       " 'examples',\n",
       " 'to',\n",
       " 'explain',\n",
       " 'the',\n",
       " 'cases',\n",
       " ':',\n",
       " 'If',\n",
       " 'there',\n",
       " 'is',\n",
       " 'small',\n",
       " 'letter',\n",
       " 'after',\n",
       " 'a',\n",
       " 'dot',\n",
       " ',',\n",
       " 'then',\n",
       " 'the',\n",
       " 'sentence',\n",
       " 'should',\n",
       " 'not',\n",
       " 'split',\n",
       " 'after',\n",
       " 'the',\n",
       " 'dot',\n",
       " '.',\n",
       " 'The',\n",
       " 'following',\n",
       " 'is',\n",
       " 'an',\n",
       " 'example',\n",
       " ':',\n",
       " 'Sentence',\n",
       " ':',\n",
       " 'He',\n",
       " 'has',\n",
       " 'completed',\n",
       " 'his',\n",
       " 'Ph.D.',\n",
       " 'degree',\n",
       " '.',\n",
       " 'He',\n",
       " 'is',\n",
       " 'happy',\n",
       " '.',\n",
       " 'In',\n",
       " 'the',\n",
       " 'preceding',\n",
       " 'example',\n",
       " ',',\n",
       " 'the',\n",
       " 'sentence',\n",
       " 'tokenizer',\n",
       " 'should',\n",
       " 'split',\n",
       " 'the',\n",
       " 'sentence',\n",
       " 'after',\n",
       " 'degree',\n",
       " ',',\n",
       " 'not',\n",
       " 'after',\n",
       " 'Ph.D',\n",
       " '.',\n",
       " 'If',\n",
       " 'there',\n",
       " 'is',\n",
       " 'a',\n",
       " 'small',\n",
       " 'letter',\n",
       " 'after',\n",
       " 'the',\n",
       " 'dot',\n",
       " ',',\n",
       " 'then',\n",
       " 'the',\n",
       " 'sentence',\n",
       " 'should',\n",
       " 'be',\n",
       " 'split',\n",
       " 'after',\n",
       " 'the',\n",
       " 'dot',\n",
       " '.',\n",
       " 'This',\n",
       " 'is',\n",
       " 'a',\n",
       " 'common',\n",
       " 'mistake',\n",
       " '.',\n",
       " 'Let',\n",
       " \"'s\",\n",
       " 'take',\n",
       " 'an',\n",
       " 'example',\n",
       " ':',\n",
       " 'Sentence',\n",
       " ':',\n",
       " 'This',\n",
       " 'is',\n",
       " 'an',\n",
       " 'apple.an',\n",
       " 'apple',\n",
       " 'is',\n",
       " 'good',\n",
       " 'for',\n",
       " 'health',\n",
       " '.',\n",
       " 'In',\n",
       " 'the',\n",
       " 'preceding',\n",
       " 'example',\n",
       " ',',\n",
       " 'the',\n",
       " 'sentence',\n",
       " 'tokenizer',\n",
       " 'should',\n",
       " 'split',\n",
       " 'the',\n",
       " 'sentence',\n",
       " 'after',\n",
       " 'apple',\n",
       " '.',\n",
       " 'If',\n",
       " 'there',\n",
       " 'is',\n",
       " 'an',\n",
       " 'initial',\n",
       " 'name',\n",
       " 'in',\n",
       " 'the',\n",
       " 'sentence',\n",
       " ',',\n",
       " 'then',\n",
       " 'the',\n",
       " 'sentence',\n",
       " 'should',\n",
       " 'not',\n",
       " 'split',\n",
       " 'after',\n",
       " 'the',\n",
       " 'initials',\n",
       " ':',\n",
       " 'Sentence',\n",
       " ':',\n",
       " 'Harry',\n",
       " 'Potter',\n",
       " 'was',\n",
       " 'written',\n",
       " 'by',\n",
       " 'J.K.',\n",
       " 'Rowling',\n",
       " '.',\n",
       " 'It',\n",
       " 'is',\n",
       " 'an',\n",
       " 'entertaining',\n",
       " 'one',\n",
       " '.',\n",
       " 'In',\n",
       " 'the',\n",
       " 'preceding',\n",
       " 'example',\n",
       " ',',\n",
       " 'the',\n",
       " 'sentence',\n",
       " 'should',\n",
       " 'not',\n",
       " 'split',\n",
       " 'after',\n",
       " 'J',\n",
       " '.',\n",
       " 'It',\n",
       " 'should',\n",
       " 'ideally',\n",
       " 'split',\n",
       " 'after',\n",
       " 'Rowling',\n",
       " '.',\n",
       " 'Grammarly',\n",
       " 'Inc.',\n",
       " ',',\n",
       " 'the',\n",
       " 'grammar',\n",
       " 'correction',\n",
       " 'software',\n",
       " ',',\n",
       " 'customized',\n",
       " 'a',\n",
       " 'rule',\n",
       " 'for',\n",
       " 'the',\n",
       " 'identification',\n",
       " 'of',\n",
       " 'sentences',\n",
       " 'and',\n",
       " 'achieves',\n",
       " 'high',\n",
       " 'accuracy',\n",
       " 'for',\n",
       " 'sentence',\n",
       " 'boundary',\n",
       " 'detection',\n",
       " '.',\n",
       " 'See',\n",
       " 'the',\n",
       " 'blog',\n",
       " 'link',\n",
       " ':',\n",
       " 'h',\n",
       " 't',\n",
       " 't',\n",
       " 'p',\n",
       " 's',\n",
       " ':',\n",
       " '//t',\n",
       " 'e',\n",
       " 'c',\n",
       " 'h',\n",
       " '.',\n",
       " 'g',\n",
       " 'r',\n",
       " 'a',\n",
       " 'm',\n",
       " 'm',\n",
       " 'a',\n",
       " 'r',\n",
       " 'l',\n",
       " 'y',\n",
       " '.',\n",
       " 'c',\n",
       " 'o',\n",
       " 'm',\n",
       " '/b',\n",
       " 'l',\n",
       " 'o',\n",
       " 'g',\n",
       " '/p',\n",
       " 'o',\n",
       " 's',\n",
       " 't',\n",
       " 's',\n",
       " '/H',\n",
       " 'o',\n",
       " 'w',\n",
       " '-',\n",
       " 't',\n",
       " 'o',\n",
       " '-',\n",
       " 'S',\n",
       " 'p',\n",
       " 'l',\n",
       " 'i',\n",
       " 't',\n",
       " '-',\n",
       " 'S',\n",
       " 'e',\n",
       " 'n',\n",
       " 't',\n",
       " 'e',\n",
       " 'n',\n",
       " 'c',\n",
       " 'e',\n",
       " 's',\n",
       " '.',\n",
       " 'h',\n",
       " 't',\n",
       " 'm',\n",
       " 'l',\n",
       " '.',\n",
       " 'To',\n",
       " 'overcome',\n",
       " 'the',\n",
       " 'previous',\n",
       " 'challenges',\n",
       " ',',\n",
       " 'you',\n",
       " 'can',\n",
       " 'take',\n",
       " 'the',\n",
       " 'following',\n",
       " 'approaches',\n",
       " ',',\n",
       " 'but',\n",
       " 'the',\n",
       " 'accuracy',\n",
       " 'of',\n",
       " 'each',\n",
       " 'approach',\n",
       " 'depends',\n",
       " 'on',\n",
       " 'the',\n",
       " 'implementation',\n",
       " '.',\n",
       " 'The',\n",
       " 'approaches',\n",
       " 'are',\n",
       " 'as',\n",
       " 'follows',\n",
       " ':']"
      ]
     },
     "execution_count": 108,
     "metadata": {},
     "output_type": "execute_result"
    }
   ],
   "source": [
    "st_words"
   ]
  },
  {
   "cell_type": "markdown",
   "metadata": {},
   "source": [
    "## Regular Expressions/Regex for text processing"
   ]
  },
  {
   "cell_type": "code",
   "execution_count": 110,
   "metadata": {},
   "outputs": [],
   "source": [
    "import re "
   ]
  },
  {
   "cell_type": "code",
   "execution_count": 120,
   "metadata": {},
   "outputs": [],
   "source": [
    "str=\"aaa\"\n"
   ]
  },
  {
   "cell_type": "code",
   "execution_count": null,
   "metadata": {},
   "outputs": [],
   "source": [
    "#we use re.match to match a regular expression"
   ]
  },
  {
   "cell_type": "markdown",
   "metadata": {},
   "source": [
    "#lets go through some special characters in regex\n"
   ]
  },
  {
   "cell_type": "markdown",
   "metadata": {},
   "source": [
    "## 1. '*' - matches 0 or more repititions of preceeding re , as many as possible"
   ]
  },
  {
   "cell_type": "code",
   "execution_count": 121,
   "metadata": {},
   "outputs": [],
   "source": [
    "str1=\"aba\""
   ]
  },
  {
   "cell_type": "code",
   "execution_count": 122,
   "metadata": {},
   "outputs": [
    {
     "name": "stdout",
     "output_type": "stream",
     "text": [
      "<_sre.SRE_Match object; span=(0, 2), match='ab'>\n"
     ]
    }
   ],
   "source": [
    "print(re.match('ab*',str1))"
   ]
  },
  {
   "cell_type": "code",
   "execution_count": 123,
   "metadata": {},
   "outputs": [],
   "source": [
    "# the above will find all the a's followed by 0 or more b's"
   ]
  },
  {
   "cell_type": "markdown",
   "metadata": {},
   "source": [
    "## 2. '+' - matches 1 or more repititions of preeceding re , as many as possible\n"
   ]
  },
  {
   "cell_type": "code",
   "execution_count": 124,
   "metadata": {},
   "outputs": [
    {
     "name": "stdout",
     "output_type": "stream",
     "text": [
      "None\n"
     ]
    }
   ],
   "source": [
    "str2=\"aa\"\n",
    "print(re.match('ab+',str2))"
   ]
  },
  {
   "cell_type": "code",
   "execution_count": 126,
   "metadata": {},
   "outputs": [
    {
     "name": "stdout",
     "output_type": "stream",
     "text": [
      "<_sre.SRE_Match object; span=(0, 1), match='a'>\n"
     ]
    }
   ],
   "source": [
    "#since it was not able to find occurence of a followed by atleast 1 b\n",
    "# '*' will give  aresult\n",
    "print(re.match('ab*',str2))"
   ]
  },
  {
   "cell_type": "markdown",
   "metadata": {},
   "source": [
    "## 3. '?' - either 0 or 1 repititions of preeceding re "
   ]
  },
  {
   "cell_type": "code",
   "execution_count": 127,
   "metadata": {},
   "outputs": [
    {
     "name": "stdout",
     "output_type": "stream",
     "text": [
      "<_sre.SRE_Match object; span=(0, 1), match='a'>\n"
     ]
    }
   ],
   "source": [
    "print(re.match('ab?',str2))"
   ]
  },
  {
   "cell_type": "code",
   "execution_count": 128,
   "metadata": {},
   "outputs": [
    {
     "name": "stdout",
     "output_type": "stream",
     "text": [
      "<_sre.SRE_Match object; span=(0, 1), match='a'>\n"
     ]
    }
   ],
   "source": [
    "#lets try it with \n",
    "str3=\"abb\"\n",
    "print(re.match('ab?',str2))"
   ]
  },
  {
   "cell_type": "markdown",
   "metadata": {},
   "source": [
    "## 4. '{m}' - specificies exactly m copies of re"
   ]
  },
  {
   "cell_type": "code",
   "execution_count": 130,
   "metadata": {},
   "outputs": [
    {
     "name": "stdout",
     "output_type": "stream",
     "text": [
      "<_sre.SRE_Match object; span=(0, 6), match='aaaaaa'>\n"
     ]
    }
   ],
   "source": [
    "str4=\"aaaaaab\"\n",
    "print(re.match('a{6}',str4))\n",
    "# it tries to match a pattern of six consecutive occurences of a "
   ]
  },
  {
   "cell_type": "code",
   "execution_count": 132,
   "metadata": {},
   "outputs": [
    {
     "name": "stdout",
     "output_type": "stream",
     "text": [
      "None\n"
     ]
    }
   ],
   "source": [
    "#lets try to change the string to 5 a's\n",
    "str4=\"aaaaa\"\n",
    "print(re.match('a{6}',str4))\n",
    "#so it is restricted to only atleast m copies ."
   ]
  },
  {
   "cell_type": "code",
   "execution_count": 133,
   "metadata": {},
   "outputs": [
    {
     "name": "stdout",
     "output_type": "stream",
     "text": [
      "<_sre.SRE_Match object; span=(0, 4), match='aaab'>\n"
     ]
    }
   ],
   "source": [
    "#lets try to combine the above others as well and lets try to build some usecase\n",
    "# find the pattern of 3 a's followed by atleast 1 b\n",
    "str5=\"aaab\"\n",
    "print(re.match('a{3}b+',str5))"
   ]
  },
  {
   "cell_type": "code",
   "execution_count": 134,
   "metadata": {},
   "outputs": [
    {
     "name": "stdout",
     "output_type": "stream",
     "text": [
      "None\n"
     ]
    }
   ],
   "source": [
    "#lets try to change the string\n",
    "str5=\"aaa\"\n",
    "print(re.match('a{3}b+',str4))"
   ]
  },
  {
   "cell_type": "markdown",
   "metadata": {},
   "source": [
    "## 5. '{m,n}' - specifies exactly m to n range of copies of re\n"
   ]
  },
  {
   "cell_type": "code",
   "execution_count": 135,
   "metadata": {},
   "outputs": [],
   "source": [
    "# it causes re to match from m to n repititions , attempting as much as possible\n",
    "# omitting m will start it from 0 \n",
    "# omitting n will read to infinite \n"
   ]
  },
  {
   "cell_type": "code",
   "execution_count": 137,
   "metadata": {},
   "outputs": [
    {
     "name": "stdout",
     "output_type": "stream",
     "text": [
      "<_sre.SRE_Match object; span=(0, 4), match='aaaa'>\n"
     ]
    }
   ],
   "source": [
    "#lets start with an example\n",
    "str5=\"aaaaaab\"\n",
    "print(re.match('a{2,4}',str4))\n",
    "# here we are trying to match a string that contains atleast 2 to 4 a's"
   ]
  },
  {
   "cell_type": "code",
   "execution_count": 145,
   "metadata": {},
   "outputs": [
    {
     "name": "stdout",
     "output_type": "stream",
     "text": [
      "None\n"
     ]
    }
   ],
   "source": [
    "# lets mix it with others as well\n",
    "# lets try to find out the string that contains atleast 1 to 3 a's followed by exactly 2 b\n",
    "str6=\"aaaabb\"\n",
    "print(re.match('a{1,3}b+',str4))"
   ]
  },
  {
   "cell_type": "markdown",
   "metadata": {},
   "source": [
    "## 6. '{m,n}?' - specfies m to n , match as few as possible"
   ]
  },
  {
   "cell_type": "code",
   "execution_count": 146,
   "metadata": {},
   "outputs": [],
   "source": [
    "# it causes re to match from m to n , attempting as low as possible\n",
    "# non greedy version of the above one"
   ]
  },
  {
   "cell_type": "code",
   "execution_count": 148,
   "metadata": {},
   "outputs": [
    {
     "name": "stdout",
     "output_type": "stream",
     "text": [
      "<_sre.SRE_Match object; span=(0, 3), match='aaa'>\n"
     ]
    }
   ],
   "source": [
    "#lets try with an example\n",
    "str6=\"aaaaa\"\n",
    "print(re.match('a{3,5}?',str4))"
   ]
  },
  {
   "cell_type": "code",
   "execution_count": 149,
   "metadata": {},
   "outputs": [
    {
     "name": "stdout",
     "output_type": "stream",
     "text": [
      "<_sre.SRE_Match object; span=(0, 5), match='aaaaa'>\n"
     ]
    }
   ],
   "source": [
    "# whereas the a{3,5} will give the complete string\n",
    "print(re.match('a{3,5}',str4))"
   ]
  },
  {
   "cell_type": "markdown",
   "metadata": {},
   "source": [
    "## 7. [ ] - to indicate a set of characters"
   ]
  },
  {
   "cell_type": "code",
   "execution_count": 150,
   "metadata": {},
   "outputs": [],
   "source": [
    "# it has several uses , lets try to find those one by one"
   ]
  },
  {
   "cell_type": "markdown",
   "metadata": {},
   "source": [
    "## 7.1 - Characters can be lisited individually"
   ]
  },
  {
   "cell_type": "code",
   "execution_count": 152,
   "metadata": {},
   "outputs": [
    {
     "name": "stdout",
     "output_type": "stream",
     "text": [
      "<_sre.SRE_Match object; span=(0, 1), match='a'>\n"
     ]
    }
   ],
   "source": [
    "str7=\"abhinavkumarmishra\"\n",
    "print(re.match('[amk]',str7))\n",
    "# it tries to find out the match for either a , m , or k"
   ]
  },
  {
   "cell_type": "markdown",
   "metadata": {},
   "source": [
    "## 7.2 - Range of characters"
   ]
  },
  {
   "cell_type": "code",
   "execution_count": 158,
   "metadata": {},
   "outputs": [],
   "source": [
    "# used to match range of characters\n",
    "str8=\"abacd\""
   ]
  },
  {
   "cell_type": "code",
   "execution_count": 159,
   "metadata": {},
   "outputs": [
    {
     "name": "stdout",
     "output_type": "stream",
     "text": [
      "<_sre.SRE_Match object; span=(0, 1), match='a'>\n"
     ]
    }
   ],
   "source": [
    "#lets try to match only the lowercase characters\n",
    "print(re.match('[a-z]',str8))"
   ]
  },
  {
   "cell_type": "code",
   "execution_count": 160,
   "metadata": {},
   "outputs": [
    {
     "name": "stdout",
     "output_type": "stream",
     "text": [
      "None\n"
     ]
    }
   ],
   "source": [
    "# lets try to change the string\n",
    "str8=\"ABHINAV\"\n",
    "print(re.match('[a-z]',str8))"
   ]
  },
  {
   "cell_type": "code",
   "execution_count": 161,
   "metadata": {},
   "outputs": [
    {
     "name": "stdout",
     "output_type": "stream",
     "text": [
      "<_sre.SRE_Match object; span=(0, 1), match='A'>\n"
     ]
    }
   ],
   "source": [
    "# similarily it can be used to find all the uppercase characters\n",
    "str8=\"ABHINAV\"\n",
    "print(re.match('[A-Z]',str8))"
   ]
  },
  {
   "cell_type": "markdown",
   "metadata": {},
   "source": [
    "## 7.3 - Special characters loose their meaning inside []"
   ]
  },
  {
   "cell_type": "code",
   "execution_count": 163,
   "metadata": {},
   "outputs": [
    {
     "ename": "error",
     "evalue": "nothing to repeat at position 1",
     "output_type": "error",
     "traceback": [
      "\u001b[1;31m---------------------------------------------------------------------------\u001b[0m",
      "\u001b[1;31merror\u001b[0m                                     Traceback (most recent call last)",
      "\u001b[1;32m<ipython-input-163-f1ef1d44a33b>\u001b[0m in \u001b[0;36m<module>\u001b[1;34m()\u001b[0m\n\u001b[0;32m      1\u001b[0m \u001b[1;31m# lets try to match (+*)\u001b[0m\u001b[1;33m\u001b[0m\u001b[1;33m\u001b[0m\u001b[0m\n\u001b[0;32m      2\u001b[0m \u001b[0mstr9\u001b[0m\u001b[1;33m=\u001b[0m\u001b[1;34m'(+*)'\u001b[0m\u001b[1;33m\u001b[0m\u001b[0m\n\u001b[1;32m----> 3\u001b[1;33m \u001b[0mprint\u001b[0m\u001b[1;33m(\u001b[0m\u001b[0mre\u001b[0m\u001b[1;33m.\u001b[0m\u001b[0mmatch\u001b[0m\u001b[1;33m(\u001b[0m\u001b[1;34m'(+*)'\u001b[0m\u001b[1;33m,\u001b[0m\u001b[0mstr9\u001b[0m\u001b[1;33m)\u001b[0m\u001b[1;33m)\u001b[0m\u001b[1;33m\u001b[0m\u001b[0m\n\u001b[0m\u001b[0;32m      4\u001b[0m \u001b[1;31m# it will throw an error as it would consider it as special character\u001b[0m\u001b[1;33m\u001b[0m\u001b[1;33m\u001b[0m\u001b[0m\n",
      "\u001b[1;32m~\\Miniconda3\\lib\\re.py\u001b[0m in \u001b[0;36mmatch\u001b[1;34m(pattern, string, flags)\u001b[0m\n\u001b[0;32m    170\u001b[0m     \"\"\"Try to apply the pattern at the start of the string, returning\n\u001b[0;32m    171\u001b[0m     a match object, or None if no match was found.\"\"\"\n\u001b[1;32m--> 172\u001b[1;33m     \u001b[1;32mreturn\u001b[0m \u001b[0m_compile\u001b[0m\u001b[1;33m(\u001b[0m\u001b[0mpattern\u001b[0m\u001b[1;33m,\u001b[0m \u001b[0mflags\u001b[0m\u001b[1;33m)\u001b[0m\u001b[1;33m.\u001b[0m\u001b[0mmatch\u001b[0m\u001b[1;33m(\u001b[0m\u001b[0mstring\u001b[0m\u001b[1;33m)\u001b[0m\u001b[1;33m\u001b[0m\u001b[0m\n\u001b[0m\u001b[0;32m    173\u001b[0m \u001b[1;33m\u001b[0m\u001b[0m\n\u001b[0;32m    174\u001b[0m \u001b[1;32mdef\u001b[0m \u001b[0mfullmatch\u001b[0m\u001b[1;33m(\u001b[0m\u001b[0mpattern\u001b[0m\u001b[1;33m,\u001b[0m \u001b[0mstring\u001b[0m\u001b[1;33m,\u001b[0m \u001b[0mflags\u001b[0m\u001b[1;33m=\u001b[0m\u001b[1;36m0\u001b[0m\u001b[1;33m)\u001b[0m\u001b[1;33m:\u001b[0m\u001b[1;33m\u001b[0m\u001b[0m\n",
      "\u001b[1;32m~\\Miniconda3\\lib\\re.py\u001b[0m in \u001b[0;36m_compile\u001b[1;34m(pattern, flags)\u001b[0m\n\u001b[0;32m    299\u001b[0m     \u001b[1;32mif\u001b[0m \u001b[1;32mnot\u001b[0m \u001b[0msre_compile\u001b[0m\u001b[1;33m.\u001b[0m\u001b[0misstring\u001b[0m\u001b[1;33m(\u001b[0m\u001b[0mpattern\u001b[0m\u001b[1;33m)\u001b[0m\u001b[1;33m:\u001b[0m\u001b[1;33m\u001b[0m\u001b[0m\n\u001b[0;32m    300\u001b[0m         \u001b[1;32mraise\u001b[0m \u001b[0mTypeError\u001b[0m\u001b[1;33m(\u001b[0m\u001b[1;34m\"first argument must be string or compiled pattern\"\u001b[0m\u001b[1;33m)\u001b[0m\u001b[1;33m\u001b[0m\u001b[0m\n\u001b[1;32m--> 301\u001b[1;33m     \u001b[0mp\u001b[0m \u001b[1;33m=\u001b[0m \u001b[0msre_compile\u001b[0m\u001b[1;33m.\u001b[0m\u001b[0mcompile\u001b[0m\u001b[1;33m(\u001b[0m\u001b[0mpattern\u001b[0m\u001b[1;33m,\u001b[0m \u001b[0mflags\u001b[0m\u001b[1;33m)\u001b[0m\u001b[1;33m\u001b[0m\u001b[0m\n\u001b[0m\u001b[0;32m    302\u001b[0m     \u001b[1;32mif\u001b[0m \u001b[1;32mnot\u001b[0m \u001b[1;33m(\u001b[0m\u001b[0mflags\u001b[0m \u001b[1;33m&\u001b[0m \u001b[0mDEBUG\u001b[0m\u001b[1;33m)\u001b[0m\u001b[1;33m:\u001b[0m\u001b[1;33m\u001b[0m\u001b[0m\n\u001b[0;32m    303\u001b[0m         \u001b[1;32mif\u001b[0m \u001b[0mlen\u001b[0m\u001b[1;33m(\u001b[0m\u001b[0m_cache\u001b[0m\u001b[1;33m)\u001b[0m \u001b[1;33m>=\u001b[0m \u001b[0m_MAXCACHE\u001b[0m\u001b[1;33m:\u001b[0m\u001b[1;33m\u001b[0m\u001b[0m\n",
      "\u001b[1;32m~\\Miniconda3\\lib\\sre_compile.py\u001b[0m in \u001b[0;36mcompile\u001b[1;34m(p, flags)\u001b[0m\n\u001b[0;32m    560\u001b[0m     \u001b[1;32mif\u001b[0m \u001b[0misstring\u001b[0m\u001b[1;33m(\u001b[0m\u001b[0mp\u001b[0m\u001b[1;33m)\u001b[0m\u001b[1;33m:\u001b[0m\u001b[1;33m\u001b[0m\u001b[0m\n\u001b[0;32m    561\u001b[0m         \u001b[0mpattern\u001b[0m \u001b[1;33m=\u001b[0m \u001b[0mp\u001b[0m\u001b[1;33m\u001b[0m\u001b[0m\n\u001b[1;32m--> 562\u001b[1;33m         \u001b[0mp\u001b[0m \u001b[1;33m=\u001b[0m \u001b[0msre_parse\u001b[0m\u001b[1;33m.\u001b[0m\u001b[0mparse\u001b[0m\u001b[1;33m(\u001b[0m\u001b[0mp\u001b[0m\u001b[1;33m,\u001b[0m \u001b[0mflags\u001b[0m\u001b[1;33m)\u001b[0m\u001b[1;33m\u001b[0m\u001b[0m\n\u001b[0m\u001b[0;32m    563\u001b[0m     \u001b[1;32melse\u001b[0m\u001b[1;33m:\u001b[0m\u001b[1;33m\u001b[0m\u001b[0m\n\u001b[0;32m    564\u001b[0m         \u001b[0mpattern\u001b[0m \u001b[1;33m=\u001b[0m \u001b[1;32mNone\u001b[0m\u001b[1;33m\u001b[0m\u001b[0m\n",
      "\u001b[1;32m~\\Miniconda3\\lib\\sre_parse.py\u001b[0m in \u001b[0;36mparse\u001b[1;34m(str, flags, pattern)\u001b[0m\n\u001b[0;32m    853\u001b[0m \u001b[1;33m\u001b[0m\u001b[0m\n\u001b[0;32m    854\u001b[0m     \u001b[1;32mtry\u001b[0m\u001b[1;33m:\u001b[0m\u001b[1;33m\u001b[0m\u001b[0m\n\u001b[1;32m--> 855\u001b[1;33m         \u001b[0mp\u001b[0m \u001b[1;33m=\u001b[0m \u001b[0m_parse_sub\u001b[0m\u001b[1;33m(\u001b[0m\u001b[0msource\u001b[0m\u001b[1;33m,\u001b[0m \u001b[0mpattern\u001b[0m\u001b[1;33m,\u001b[0m \u001b[0mflags\u001b[0m \u001b[1;33m&\u001b[0m \u001b[0mSRE_FLAG_VERBOSE\u001b[0m\u001b[1;33m,\u001b[0m \u001b[1;36m0\u001b[0m\u001b[1;33m)\u001b[0m\u001b[1;33m\u001b[0m\u001b[0m\n\u001b[0m\u001b[0;32m    856\u001b[0m     \u001b[1;32mexcept\u001b[0m \u001b[0mVerbose\u001b[0m\u001b[1;33m:\u001b[0m\u001b[1;33m\u001b[0m\u001b[0m\n\u001b[0;32m    857\u001b[0m         \u001b[1;31m# the VERBOSE flag was switched on inside the pattern.  to be\u001b[0m\u001b[1;33m\u001b[0m\u001b[1;33m\u001b[0m\u001b[0m\n",
      "\u001b[1;32m~\\Miniconda3\\lib\\sre_parse.py\u001b[0m in \u001b[0;36m_parse_sub\u001b[1;34m(source, state, verbose, nested)\u001b[0m\n\u001b[0;32m    414\u001b[0m     \u001b[1;32mwhile\u001b[0m \u001b[1;32mTrue\u001b[0m\u001b[1;33m:\u001b[0m\u001b[1;33m\u001b[0m\u001b[0m\n\u001b[0;32m    415\u001b[0m         itemsappend(_parse(source, state, verbose, nested + 1,\n\u001b[1;32m--> 416\u001b[1;33m                            not nested and not items))\n\u001b[0m\u001b[0;32m    417\u001b[0m         \u001b[1;32mif\u001b[0m \u001b[1;32mnot\u001b[0m \u001b[0msourcematch\u001b[0m\u001b[1;33m(\u001b[0m\u001b[1;34m\"|\"\u001b[0m\u001b[1;33m)\u001b[0m\u001b[1;33m:\u001b[0m\u001b[1;33m\u001b[0m\u001b[0m\n\u001b[0;32m    418\u001b[0m             \u001b[1;32mbreak\u001b[0m\u001b[1;33m\u001b[0m\u001b[0m\n",
      "\u001b[1;32m~\\Miniconda3\\lib\\sre_parse.py\u001b[0m in \u001b[0;36m_parse\u001b[1;34m(source, state, verbose, nested, first)\u001b[0m\n\u001b[0;32m    763\u001b[0m                 sub_verbose = ((verbose or (add_flags & SRE_FLAG_VERBOSE)) and\n\u001b[0;32m    764\u001b[0m                                not (del_flags & SRE_FLAG_VERBOSE))\n\u001b[1;32m--> 765\u001b[1;33m                 \u001b[0mp\u001b[0m \u001b[1;33m=\u001b[0m \u001b[0m_parse_sub\u001b[0m\u001b[1;33m(\u001b[0m\u001b[0msource\u001b[0m\u001b[1;33m,\u001b[0m \u001b[0mstate\u001b[0m\u001b[1;33m,\u001b[0m \u001b[0msub_verbose\u001b[0m\u001b[1;33m,\u001b[0m \u001b[0mnested\u001b[0m \u001b[1;33m+\u001b[0m \u001b[1;36m1\u001b[0m\u001b[1;33m)\u001b[0m\u001b[1;33m\u001b[0m\u001b[0m\n\u001b[0m\u001b[0;32m    766\u001b[0m             \u001b[1;32mif\u001b[0m \u001b[1;32mnot\u001b[0m \u001b[0msource\u001b[0m\u001b[1;33m.\u001b[0m\u001b[0mmatch\u001b[0m\u001b[1;33m(\u001b[0m\u001b[1;34m\")\"\u001b[0m\u001b[1;33m)\u001b[0m\u001b[1;33m:\u001b[0m\u001b[1;33m\u001b[0m\u001b[0m\n\u001b[0;32m    767\u001b[0m                 raise source.error(\"missing ), unterminated subpattern\",\n",
      "\u001b[1;32m~\\Miniconda3\\lib\\sre_parse.py\u001b[0m in \u001b[0;36m_parse_sub\u001b[1;34m(source, state, verbose, nested)\u001b[0m\n\u001b[0;32m    414\u001b[0m     \u001b[1;32mwhile\u001b[0m \u001b[1;32mTrue\u001b[0m\u001b[1;33m:\u001b[0m\u001b[1;33m\u001b[0m\u001b[0m\n\u001b[0;32m    415\u001b[0m         itemsappend(_parse(source, state, verbose, nested + 1,\n\u001b[1;32m--> 416\u001b[1;33m                            not nested and not items))\n\u001b[0m\u001b[0;32m    417\u001b[0m         \u001b[1;32mif\u001b[0m \u001b[1;32mnot\u001b[0m \u001b[0msourcematch\u001b[0m\u001b[1;33m(\u001b[0m\u001b[1;34m\"|\"\u001b[0m\u001b[1;33m)\u001b[0m\u001b[1;33m:\u001b[0m\u001b[1;33m\u001b[0m\u001b[0m\n\u001b[0;32m    418\u001b[0m             \u001b[1;32mbreak\u001b[0m\u001b[1;33m\u001b[0m\u001b[0m\n",
      "\u001b[1;32m~\\Miniconda3\\lib\\sre_parse.py\u001b[0m in \u001b[0;36m_parse\u001b[1;34m(source, state, verbose, nested, first)\u001b[0m\n\u001b[0;32m    614\u001b[0m             \u001b[1;32mif\u001b[0m \u001b[1;32mnot\u001b[0m \u001b[0mitem\u001b[0m \u001b[1;32mor\u001b[0m \u001b[1;33m(\u001b[0m\u001b[0m_len\u001b[0m\u001b[1;33m(\u001b[0m\u001b[0mitem\u001b[0m\u001b[1;33m)\u001b[0m \u001b[1;33m==\u001b[0m \u001b[1;36m1\u001b[0m \u001b[1;32mand\u001b[0m \u001b[0mitem\u001b[0m\u001b[1;33m[\u001b[0m\u001b[1;36m0\u001b[0m\u001b[1;33m]\u001b[0m\u001b[1;33m[\u001b[0m\u001b[1;36m0\u001b[0m\u001b[1;33m]\u001b[0m \u001b[1;32mis\u001b[0m \u001b[0mAT\u001b[0m\u001b[1;33m)\u001b[0m\u001b[1;33m:\u001b[0m\u001b[1;33m\u001b[0m\u001b[0m\n\u001b[0;32m    615\u001b[0m                 raise source.error(\"nothing to repeat\",\n\u001b[1;32m--> 616\u001b[1;33m                                    source.tell() - here + len(this))\n\u001b[0m\u001b[0;32m    617\u001b[0m             \u001b[1;32mif\u001b[0m \u001b[0mitem\u001b[0m\u001b[1;33m[\u001b[0m\u001b[1;36m0\u001b[0m\u001b[1;33m]\u001b[0m\u001b[1;33m[\u001b[0m\u001b[1;36m0\u001b[0m\u001b[1;33m]\u001b[0m \u001b[1;32min\u001b[0m \u001b[0m_REPEATCODES\u001b[0m\u001b[1;33m:\u001b[0m\u001b[1;33m\u001b[0m\u001b[0m\n\u001b[0;32m    618\u001b[0m                 raise source.error(\"multiple repeat\",\n",
      "\u001b[1;31merror\u001b[0m: nothing to repeat at position 1"
     ]
    }
   ],
   "source": [
    "# lets try to match (+*)\n",
    "str9='(+*)'\n",
    "print(re.match('(+*)',str9))\n",
    "# it will throw an error as it would consider it as special character"
   ]
  },
  {
   "cell_type": "code",
   "execution_count": 164,
   "metadata": {},
   "outputs": [
    {
     "name": "stdout",
     "output_type": "stream",
     "text": [
      "<_sre.SRE_Match object; span=(0, 1), match='('>\n"
     ]
    }
   ],
   "source": [
    "# lets try to use [] now\n",
    "str9=\"(+*)\"\n",
    "print(re.match('[(+*)]',str9))"
   ]
  },
  {
   "cell_type": "markdown",
   "metadata": {},
   "source": [
    "## 7.4 - Complementing the Set (^) "
   ]
  },
  {
   "cell_type": "code",
   "execution_count": 167,
   "metadata": {},
   "outputs": [
    {
     "name": "stdout",
     "output_type": "stream",
     "text": [
      "None\n"
     ]
    }
   ],
   "source": [
    "# IT IS USED TO OPPOSITE OF WHAT IS DEFINED IN THE SET \n",
    "# FOR E.G [^a-z] will search for the non lowercase characters\n",
    "str10=\"abcd\"\n",
    "print(re.match('[^a-z]',str10))\n",
    "# it won't print anything as it is trying to find all non lowercase characters"
   ]
  },
  {
   "cell_type": "code",
   "execution_count": 169,
   "metadata": {},
   "outputs": [
    {
     "name": "stdout",
     "output_type": "stream",
     "text": [
      "<_sre.SRE_Match object; span=(0, 1), match='a'>\n"
     ]
    }
   ],
   "source": [
    "# lets try to achieve this with a simple technique\n",
    "str10=\"abcd\"\n",
    "print(re.match('[^A-Z]',str10))\n",
    "# here we are trying to neglect all the uppercase characters so as to find only the lowercase"
   ]
  },
  {
   "cell_type": "code",
   "execution_count": 171,
   "metadata": {},
   "outputs": [
    {
     "name": "stdout",
     "output_type": "stream",
     "text": [
      "<_sre.SRE_Match object; span=(0, 1), match='1'>\n"
     ]
    }
   ],
   "source": [
    "# another use case is to find anything than lower or uppercase english characters\n",
    "str11=\"123456\"\n",
    "print(re.match('[^a-zA-z]',str11))"
   ]
  },
  {
   "cell_type": "markdown",
   "metadata": {},
   "source": [
    "## 8. \\d and \\D - to find non digit and digit characters"
   ]
  },
  {
   "cell_type": "code",
   "execution_count": 172,
   "metadata": {},
   "outputs": [
    {
     "name": "stdout",
     "output_type": "stream",
     "text": [
      "<_sre.SRE_Match object; span=(0, 1), match='1'>\n"
     ]
    }
   ],
   "source": [
    "str12=\"123456\"\n",
    "print(re.match('\\d',str12))"
   ]
  },
  {
   "cell_type": "code",
   "execution_count": 173,
   "metadata": {},
   "outputs": [],
   "source": [
    "#'\\d' is to find out the digit characters"
   ]
  },
  {
   "cell_type": "code",
   "execution_count": 176,
   "metadata": {},
   "outputs": [
    {
     "name": "stdout",
     "output_type": "stream",
     "text": [
      "None\n"
     ]
    }
   ],
   "source": [
    "#'\\D' is to find the non-digit characters\n",
    "str13=\"abcd\"\n",
    "print(re.match('\\d',str13))\n",
    "#here small d won't work"
   ]
  },
  {
   "cell_type": "code",
   "execution_count": 178,
   "metadata": {},
   "outputs": [
    {
     "name": "stdout",
     "output_type": "stream",
     "text": [
      "<_sre.SRE_Match object; span=(0, 1), match='a'>\n"
     ]
    }
   ],
   "source": [
    "#lets use \\D \n",
    "str13=\"abcd\"\n",
    "print(re.match('\\D',str13))"
   ]
  },
  {
   "cell_type": "code",
   "execution_count": 179,
   "metadata": {},
   "outputs": [
    {
     "name": "stdout",
     "output_type": "stream",
     "text": [
      "<_sre.SRE_Match object; span=(0, 1), match='a'>\n"
     ]
    }
   ],
   "source": [
    "# An important note\n",
    "# please remember you can play around with these re's as per your convenience \n",
    "# for e.g to get all the non-digit characters you can also use [^0-9]\n",
    "print(re.match('[^0-9]',str13))"
   ]
  },
  {
   "cell_type": "markdown",
   "metadata": {},
   "source": [
    "## 9. \\w and \\W - to find alphanumeric and nonalphanumeric characters"
   ]
  },
  {
   "cell_type": "code",
   "execution_count": 180,
   "metadata": {},
   "outputs": [
    {
     "name": "stdout",
     "output_type": "stream",
     "text": [
      "<_sre.SRE_Match object; span=(0, 1), match='a'>\n"
     ]
    }
   ],
   "source": [
    "# \\w is used to match any alphanumeric characters\n",
    "str14=\"abcd1234\"\n",
    "print(re.match('\\w',str14))"
   ]
  },
  {
   "cell_type": "code",
   "execution_count": 181,
   "metadata": {},
   "outputs": [],
   "source": [
    "# Note\n",
    "# it is equivalent to [a-zA-z0-9_]\n",
    "# most important point is it includes underscor(_) as well"
   ]
  },
  {
   "cell_type": "code",
   "execution_count": 183,
   "metadata": {},
   "outputs": [
    {
     "name": "stdout",
     "output_type": "stream",
     "text": [
      "<_sre.SRE_Match object; span=(0, 1), match='?'>\n"
     ]
    }
   ],
   "source": [
    "#\\W is used to match any non alphanumeric characters\n",
    "str15=\"?%)\"\n",
    "print(re.match('\\W',str15))\n",
    "# or we can say it is an another way to match all the special characters"
   ]
  },
  {
   "cell_type": "code",
   "execution_count": null,
   "metadata": {},
   "outputs": [],
   "source": []
  }
 ],
 "metadata": {
  "kernelspec": {
   "display_name": "Python 3",
   "language": "python",
   "name": "python3"
  },
  "language_info": {
   "codemirror_mode": {
    "name": "ipython",
    "version": 3
   },
   "file_extension": ".py",
   "mimetype": "text/x-python",
   "name": "python",
   "nbconvert_exporter": "python",
   "pygments_lexer": "ipython3",
   "version": "3.6.4"
  }
 },
 "nbformat": 4,
 "nbformat_minor": 2
}
